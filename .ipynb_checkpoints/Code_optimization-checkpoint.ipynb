{
 "cells": [
  {
   "cell_type": "markdown",
   "metadata": {},
   "source": [
    "# Data load and python code optimization"
   ]
  },
  {
   "cell_type": "markdown",
   "metadata": {},
   "source": [
    "## Time optimization "
   ]
  },
  {
   "cell_type": "code",
   "execution_count": 37,
   "metadata": {},
   "outputs": [],
   "source": [
    "#Load data\n",
    "spd_opt_data = pd.read_csv('data/dataset_speed_optimization.csv')\n",
    "#Extract only the needed features\n",
    "spd_opt_data=spd_opt_data[['latitude','longitude']]"
   ]
  },
  {
   "cell_type": "markdown",
   "metadata": {},
   "source": [
    "#### First round: 10,5 s"
   ]
  },
  {
   "cell_type": "code",
   "execution_count": 32,
   "metadata": {},
   "outputs": [
    {
     "name": "stdout",
     "output_type": "stream",
     "text": [
      "10.5 s ± 462 ms per loop (mean ± std. dev. of 7 runs, 1 loop each)\n"
     ]
    }
   ],
   "source": [
    "%%timeit\n",
    "#Function to apply to all rows in the DataFrame\n",
    "def functiontoapply_first(lat,lon):\n",
    "    a=np.sin(lat/2)**2+np.cos(lat)*np.cos(lon)*np.sin(lon/2)**2\n",
    "    return a\n",
    " \n",
    "#Add new column to the DataFrame\n",
    "listresults=[]\n",
    "for i in range ( 0 ,len(spd_opt_data)):\n",
    "    r = functiontoapply_first(used_data.iloc[i]['latitude'],used_data.iloc[i]['longitude'])\n",
    "    listresults.append(r)\n",
    "spd_opt_data['distance']=listresults"
   ]
  },
  {
   "cell_type": "markdown",
   "metadata": {},
   "source": [
    "#### Second round: 4.72 s"
   ]
  },
  {
   "cell_type": "code",
   "execution_count": 33,
   "metadata": {},
   "outputs": [
    {
     "name": "stdout",
     "output_type": "stream",
     "text": [
      "4.72 s ± 519 ms per loop (mean ± std. dev. of 7 runs, 1 loop each)\n"
     ]
    }
   ],
   "source": [
    "%%timeit\n",
    "def functiontoapply_second(lat,lon):\n",
    "    return np.sin(lat/2)**2+np.cos(lat)*np.cos(lon)*np.sin(lon/2)**2\n",
    "    \n",
    "spd_opt_data['distance']=0\n",
    "\n",
    "for index, row in spd_opt_data.iterrows():\n",
    "    spd_opt_data.at[index, 'distance']= functiontoapply(row['latitude'],row['longitude'])"
   ]
  },
  {
   "cell_type": "markdown",
   "metadata": {},
   "source": [
    "#### third round: 5.64 ms"
   ]
  },
  {
   "cell_type": "code",
   "execution_count": 38,
   "metadata": {},
   "outputs": [
    {
     "name": "stdout",
     "output_type": "stream",
     "text": [
      "5.64 ms ± 181 µs per loop (mean ± std. dev. of 7 runs, 100 loops each)\n"
     ]
    }
   ],
   "source": [
    "%%timeit\n",
    "def functiontoapply_third(lat,lon):\n",
    "    return np.sin(lat/2)**2+np.cos(lat)*np.cos(lon)*np.sin(lon/2)**2\n",
    "spd_opt_data['distances']= functiontoapply_third(spd_opt_data['latitude'], spd_opt_data['longitude'])"
   ]
  },
  {
   "cell_type": "markdown",
   "metadata": {},
   "source": [
    "## Memory optimization"
   ]
  },
  {
   "cell_type": "markdown",
   "metadata": {},
   "source": [
    "#### Initial load"
   ]
  },
  {
   "cell_type": "code",
   "execution_count": 190,
   "metadata": {},
   "outputs": [],
   "source": [
    "#Load data\n",
    "mem_opt_data = pd.read_csv('data/dataset_memory_optimization.csv')"
   ]
  },
  {
   "cell_type": "code",
   "execution_count": 191,
   "metadata": {},
   "outputs": [
    {
     "data": {
      "text/html": [
       "<div>\n",
       "<style scoped>\n",
       "    .dataframe tbody tr th:only-of-type {\n",
       "        vertical-align: middle;\n",
       "    }\n",
       "\n",
       "    .dataframe tbody tr th {\n",
       "        vertical-align: top;\n",
       "    }\n",
       "\n",
       "    .dataframe thead th {\n",
       "        text-align: right;\n",
       "    }\n",
       "</style>\n",
       "<table border=\"1\" class=\"dataframe\">\n",
       "  <thead>\n",
       "    <tr style=\"text-align: right;\">\n",
       "      <th></th>\n",
       "      <th>ean_hotel_id</th>\n",
       "      <th>name</th>\n",
       "      <th>address1</th>\n",
       "      <th>city</th>\n",
       "      <th>state_province</th>\n",
       "      <th>postal_code</th>\n",
       "      <th>latitude</th>\n",
       "      <th>longitude</th>\n",
       "      <th>star_rating</th>\n",
       "      <th>high_rate</th>\n",
       "      <th>low_rate</th>\n",
       "    </tr>\n",
       "  </thead>\n",
       "  <tbody>\n",
       "    <tr>\n",
       "      <th>0</th>\n",
       "      <td>269955</td>\n",
       "      <td>Hilton Garden Inn Albany/SUNY Area</td>\n",
       "      <td>1389 Washington Ave</td>\n",
       "      <td>Albany</td>\n",
       "      <td>NY</td>\n",
       "      <td>12206</td>\n",
       "      <td>42.68751</td>\n",
       "      <td>-73.81643</td>\n",
       "      <td>3.0</td>\n",
       "      <td>154.0272</td>\n",
       "      <td>124.0216</td>\n",
       "    </tr>\n",
       "    <tr>\n",
       "      <th>1</th>\n",
       "      <td>113431</td>\n",
       "      <td>Courtyard by Marriott Albany Thruway</td>\n",
       "      <td>1455 Washington Avenue</td>\n",
       "      <td>Albany</td>\n",
       "      <td>NY</td>\n",
       "      <td>12206</td>\n",
       "      <td>42.68971</td>\n",
       "      <td>-73.82021</td>\n",
       "      <td>3.0</td>\n",
       "      <td>179.0100</td>\n",
       "      <td>134.0000</td>\n",
       "    </tr>\n",
       "    <tr>\n",
       "      <th>2</th>\n",
       "      <td>108151</td>\n",
       "      <td>Radisson Hotel Albany</td>\n",
       "      <td>205 Wolf Rd</td>\n",
       "      <td>Albany</td>\n",
       "      <td>NY</td>\n",
       "      <td>12205</td>\n",
       "      <td>42.72410</td>\n",
       "      <td>-73.79822</td>\n",
       "      <td>3.0</td>\n",
       "      <td>134.1700</td>\n",
       "      <td>84.1600</td>\n",
       "    </tr>\n",
       "    <tr>\n",
       "      <th>3</th>\n",
       "      <td>254756</td>\n",
       "      <td>Hilton Garden Inn Albany Medical Center</td>\n",
       "      <td>62 New Scotland Ave</td>\n",
       "      <td>Albany</td>\n",
       "      <td>NY</td>\n",
       "      <td>12208</td>\n",
       "      <td>42.65157</td>\n",
       "      <td>-73.77638</td>\n",
       "      <td>3.0</td>\n",
       "      <td>308.2807</td>\n",
       "      <td>228.4597</td>\n",
       "    </tr>\n",
       "    <tr>\n",
       "      <th>4</th>\n",
       "      <td>198232</td>\n",
       "      <td>CrestHill Suites SUNY University Albany</td>\n",
       "      <td>1415 Washington Avenue</td>\n",
       "      <td>Albany</td>\n",
       "      <td>NY</td>\n",
       "      <td>12206</td>\n",
       "      <td>42.68873</td>\n",
       "      <td>-73.81854</td>\n",
       "      <td>3.0</td>\n",
       "      <td>169.3900</td>\n",
       "      <td>89.3900</td>\n",
       "    </tr>\n",
       "  </tbody>\n",
       "</table>\n",
       "</div>"
      ],
      "text/plain": [
       "   ean_hotel_id                                     name  \\\n",
       "0        269955       Hilton Garden Inn Albany/SUNY Area   \n",
       "1        113431     Courtyard by Marriott Albany Thruway   \n",
       "2        108151                    Radisson Hotel Albany   \n",
       "3        254756  Hilton Garden Inn Albany Medical Center   \n",
       "4        198232  CrestHill Suites SUNY University Albany   \n",
       "\n",
       "                 address1    city state_province postal_code  latitude  \\\n",
       "0     1389 Washington Ave  Albany             NY       12206  42.68751   \n",
       "1  1455 Washington Avenue  Albany             NY       12206  42.68971   \n",
       "2             205 Wolf Rd  Albany             NY       12205  42.72410   \n",
       "3     62 New Scotland Ave  Albany             NY       12208  42.65157   \n",
       "4  1415 Washington Avenue  Albany             NY       12206  42.68873   \n",
       "\n",
       "   longitude  star_rating  high_rate  low_rate  \n",
       "0  -73.81643          3.0   154.0272  124.0216  \n",
       "1  -73.82021          3.0   179.0100  134.0000  \n",
       "2  -73.79822          3.0   134.1700   84.1600  \n",
       "3  -73.77638          3.0   308.2807  228.4597  \n",
       "4  -73.81854          3.0   169.3900   89.3900  "
      ]
     },
     "execution_count": 191,
     "metadata": {},
     "output_type": "execute_result"
    }
   ],
   "source": [
    "mem_opt_data .head()"
   ]
  },
  {
   "cell_type": "code",
   "execution_count": 192,
   "metadata": {},
   "outputs": [
    {
     "name": "stdout",
     "output_type": "stream",
     "text": [
      "<class 'pandas.core.frame.DataFrame'>\n",
      "RangeIndex: 417536 entries, 0 to 417535\n",
      "Data columns (total 11 columns):\n",
      " #   Column          Non-Null Count   Dtype  \n",
      "---  ------          --------------   -----  \n",
      " 0   ean_hotel_id    417536 non-null  int64  \n",
      " 1   name            417536 non-null  object \n",
      " 2   address1        417536 non-null  object \n",
      " 3   city            417536 non-null  object \n",
      " 4   state_province  417536 non-null  object \n",
      " 5   postal_code     417536 non-null  object \n",
      " 6   latitude        417536 non-null  float64\n",
      " 7   longitude       417536 non-null  float64\n",
      " 8   star_rating     417280 non-null  float64\n",
      " 9   high_rate       417536 non-null  float64\n",
      " 10  low_rate        417536 non-null  float64\n",
      "dtypes: float64(5), int64(1), object(5)\n",
      "memory usage: 157.2 MB\n"
     ]
    }
   ],
   "source": [
    "mem_opt_data.info(memory_usage='deep')"
   ]
  },
  {
   "cell_type": "code",
   "execution_count": 193,
   "metadata": {},
   "outputs": [
    {
     "data": {
      "text/plain": [
       "164885632"
      ]
     },
     "execution_count": 193,
     "metadata": {},
     "output_type": "execute_result"
    }
   ],
   "source": [
    "mem_opt_data.memory_usage(deep=True).sum()"
   ]
  },
  {
   "cell_type": "code",
   "execution_count": 100,
   "metadata": {},
   "outputs": [
    {
     "name": "stdout",
     "output_type": "stream",
     "text": [
      "ean_hotel_id  max:685047--- min:6295\n",
      "high_rate  max:10888.5--- min:0.0\n",
      "low_rate  max:5990.25--- min:0.0\n",
      "star_rating  max:5.0--- min:1.0\n"
     ]
    }
   ],
   "source": [
    "# Min and max value to now the optimized type.\n",
    "print('ean_hotel_id  max:'+str(mem_opt_data['ean_hotel_id'].max())+'--- min:'+str(mem_opt_data['ean_hotel_id'].min()))\n",
    "print('high_rate  max:'+str(mem_opt_data['high_rate'].max())+'--- min:'+str(mem_opt_data['high_rate'].min()))\n",
    "print('low_rate  max:'+str(mem_opt_data['low_rate'].max())+'--- min:'+str(mem_opt_data['low_rate'].min()))\n",
    "print('star_rating  max:'+str(mem_opt_data['star_rating'].max())+'--- min:'+str(mem_opt_data['star_rating'].min()))\n",
    "#print('star_rating:  '+ str(mem_opt_data[\"address1\"].str.len().max()))\n",
    "#print('name:   '+ str(mem_opt_data[\"name\"].str.len().max()))"
   ]
  },
  {
   "cell_type": "markdown",
   "metadata": {},
   "source": [
    "#### Optimized load"
   ]
  },
  {
   "cell_type": "code",
   "execution_count": 194,
   "metadata": {},
   "outputs": [],
   "source": [
    "#Optimized \n",
    "mem_opt_data_opt = pd.read_csv('data/dataset_memory_optimization.csv', \n",
    "                                   dtype={\"ean_hotel_id\": \"uint32\",\n",
    "                                            \"name\": \"category\",\n",
    "                                            \"address1\": \"category\",\n",
    "                                            \"city\": \"category\",  \n",
    "                                            \"state_province\": \"category\",\n",
    "                                            \"postal_code\": \"category\",\n",
    "                                            \"latitude\": \"float16\",\n",
    "                                            \"longitude\": \"float16\", \n",
    "                                            \"star_rating\": \"float16\",\n",
    "                                            \"high_rate\": \"float32\", \n",
    "                                            \"low_rate\": \"float32\"})"
   ]
  },
  {
   "cell_type": "code",
   "execution_count": 195,
   "metadata": {},
   "outputs": [
    {
     "data": {
      "text/html": [
       "<div>\n",
       "<style scoped>\n",
       "    .dataframe tbody tr th:only-of-type {\n",
       "        vertical-align: middle;\n",
       "    }\n",
       "\n",
       "    .dataframe tbody tr th {\n",
       "        vertical-align: top;\n",
       "    }\n",
       "\n",
       "    .dataframe thead th {\n",
       "        text-align: right;\n",
       "    }\n",
       "</style>\n",
       "<table border=\"1\" class=\"dataframe\">\n",
       "  <thead>\n",
       "    <tr style=\"text-align: right;\">\n",
       "      <th></th>\n",
       "      <th>ean_hotel_id</th>\n",
       "      <th>name</th>\n",
       "      <th>address1</th>\n",
       "      <th>city</th>\n",
       "      <th>state_province</th>\n",
       "      <th>postal_code</th>\n",
       "      <th>latitude</th>\n",
       "      <th>longitude</th>\n",
       "      <th>star_rating</th>\n",
       "      <th>high_rate</th>\n",
       "      <th>low_rate</th>\n",
       "    </tr>\n",
       "  </thead>\n",
       "  <tbody>\n",
       "    <tr>\n",
       "      <th>0</th>\n",
       "      <td>269955</td>\n",
       "      <td>Hilton Garden Inn Albany/SUNY Area</td>\n",
       "      <td>1389 Washington Ave</td>\n",
       "      <td>Albany</td>\n",
       "      <td>NY</td>\n",
       "      <td>12206</td>\n",
       "      <td>42.68750</td>\n",
       "      <td>-73.8125</td>\n",
       "      <td>3.0</td>\n",
       "      <td>154.027206</td>\n",
       "      <td>124.021599</td>\n",
       "    </tr>\n",
       "    <tr>\n",
       "      <th>1</th>\n",
       "      <td>113431</td>\n",
       "      <td>Courtyard by Marriott Albany Thruway</td>\n",
       "      <td>1455 Washington Avenue</td>\n",
       "      <td>Albany</td>\n",
       "      <td>NY</td>\n",
       "      <td>12206</td>\n",
       "      <td>42.68750</td>\n",
       "      <td>-73.8125</td>\n",
       "      <td>3.0</td>\n",
       "      <td>179.009995</td>\n",
       "      <td>134.000000</td>\n",
       "    </tr>\n",
       "    <tr>\n",
       "      <th>2</th>\n",
       "      <td>108151</td>\n",
       "      <td>Radisson Hotel Albany</td>\n",
       "      <td>205 Wolf Rd</td>\n",
       "      <td>Albany</td>\n",
       "      <td>NY</td>\n",
       "      <td>12205</td>\n",
       "      <td>42.71875</td>\n",
       "      <td>-73.8125</td>\n",
       "      <td>3.0</td>\n",
       "      <td>134.169998</td>\n",
       "      <td>84.160004</td>\n",
       "    </tr>\n",
       "    <tr>\n",
       "      <th>3</th>\n",
       "      <td>254756</td>\n",
       "      <td>Hilton Garden Inn Albany Medical Center</td>\n",
       "      <td>62 New Scotland Ave</td>\n",
       "      <td>Albany</td>\n",
       "      <td>NY</td>\n",
       "      <td>12208</td>\n",
       "      <td>42.65625</td>\n",
       "      <td>-73.7500</td>\n",
       "      <td>3.0</td>\n",
       "      <td>308.280701</td>\n",
       "      <td>228.459702</td>\n",
       "    </tr>\n",
       "    <tr>\n",
       "      <th>4</th>\n",
       "      <td>198232</td>\n",
       "      <td>CrestHill Suites SUNY University Albany</td>\n",
       "      <td>1415 Washington Avenue</td>\n",
       "      <td>Albany</td>\n",
       "      <td>NY</td>\n",
       "      <td>12206</td>\n",
       "      <td>42.68750</td>\n",
       "      <td>-73.8125</td>\n",
       "      <td>3.0</td>\n",
       "      <td>169.389999</td>\n",
       "      <td>89.389999</td>\n",
       "    </tr>\n",
       "  </tbody>\n",
       "</table>\n",
       "</div>"
      ],
      "text/plain": [
       "   ean_hotel_id                                     name  \\\n",
       "0        269955       Hilton Garden Inn Albany/SUNY Area   \n",
       "1        113431     Courtyard by Marriott Albany Thruway   \n",
       "2        108151                    Radisson Hotel Albany   \n",
       "3        254756  Hilton Garden Inn Albany Medical Center   \n",
       "4        198232  CrestHill Suites SUNY University Albany   \n",
       "\n",
       "                 address1    city state_province postal_code  latitude  \\\n",
       "0     1389 Washington Ave  Albany             NY       12206  42.68750   \n",
       "1  1455 Washington Avenue  Albany             NY       12206  42.68750   \n",
       "2             205 Wolf Rd  Albany             NY       12205  42.71875   \n",
       "3     62 New Scotland Ave  Albany             NY       12208  42.65625   \n",
       "4  1415 Washington Avenue  Albany             NY       12206  42.68750   \n",
       "\n",
       "   longitude  star_rating   high_rate    low_rate  \n",
       "0   -73.8125          3.0  154.027206  124.021599  \n",
       "1   -73.8125          3.0  179.009995  134.000000  \n",
       "2   -73.8125          3.0  134.169998   84.160004  \n",
       "3   -73.7500          3.0  308.280701  228.459702  \n",
       "4   -73.8125          3.0  169.389999   89.389999  "
      ]
     },
     "execution_count": 195,
     "metadata": {},
     "output_type": "execute_result"
    }
   ],
   "source": [
    "mem_opt_data_opt.head()"
   ]
  },
  {
   "cell_type": "code",
   "execution_count": 196,
   "metadata": {},
   "outputs": [
    {
     "name": "stdout",
     "output_type": "stream",
     "text": [
      "<class 'pandas.core.frame.DataFrame'>\n",
      "RangeIndex: 417536 entries, 0 to 417535\n",
      "Data columns (total 11 columns):\n",
      " #   Column          Non-Null Count   Dtype   \n",
      "---  ------          --------------   -----   \n",
      " 0   ean_hotel_id    417536 non-null  uint32  \n",
      " 1   name            417536 non-null  category\n",
      " 2   address1        417536 non-null  category\n",
      " 3   city            417536 non-null  category\n",
      " 4   state_province  417536 non-null  category\n",
      " 5   postal_code     417536 non-null  category\n",
      " 6   latitude        417536 non-null  float16 \n",
      " 7   longitude       417536 non-null  float16 \n",
      " 8   star_rating     417280 non-null  float16 \n",
      " 9   high_rate       417536 non-null  float32 \n",
      " 10  low_rate        417536 non-null  float32 \n",
      "dtypes: category(5), float16(3), float32(2), uint32(1)\n",
      "memory usage: 11.2 MB\n"
     ]
    }
   ],
   "source": [
    "mem_opt_data_opt.info(memory_usage='deep')"
   ]
  },
  {
   "cell_type": "code",
   "execution_count": 90,
   "metadata": {},
   "outputs": [
    {
     "data": {
      "text/plain": [
       "14684052"
      ]
     },
     "execution_count": 90,
     "metadata": {},
     "output_type": "execute_result"
    }
   ],
   "source": [
    "mem_opt_data_opt.memory_usage(deep=True).sum()"
   ]
  },
  {
   "cell_type": "code",
   "execution_count": 99,
   "metadata": {
    "scrolled": true
   },
   "outputs": [
    {
     "name": "stdout",
     "output_type": "stream",
     "text": [
      "ean_hotel_id  max:685047--- min:6295\n",
      "high_rate  max:10888.5--- min:0.0\n",
      "low_rate  max:5990.25--- min:0.0\n",
      "star_rating  max:5.0--- min:1.0\n"
     ]
    }
   ],
   "source": [
    "# CHeck wether the min and amx on the new type\n",
    "print('ean_hotel_id  max:'+str(mem_opt_data_opt['ean_hotel_id'].max())+'--- min:'+str(mem_opt_data_opt['ean_hotel_id'].min()))\n",
    "print('high_rate  max:'+str(mem_opt_data_opt['high_rate'].max())+'--- min:'+str(mem_opt_data_opt['high_rate'].min()))\n",
    "print('low_rate  max:'+str(mem_opt_data_opt['low_rate'].max())+'--- min:'+str(mem_opt_data_opt['low_rate'].min()))\n",
    "print('star_rating  max:'+str(mem_opt_data_opt['star_rating'].max())+'--- min:'+str(mem_opt_data_opt['star_rating'].min()))\n",
    "#print('star_rating:  '+ str(mem_opt_data[\"address1\"].str.len().max()))\n",
    "#print('name:   '+ str(mem_opt_data[\"name\"].str.len().max()))"
   ]
  },
  {
   "cell_type": "code",
   "execution_count": null,
   "metadata": {},
   "outputs": [],
   "source": []
  }
 ],
 "metadata": {
  "kernelspec": {
   "display_name": "Python 3",
   "language": "python",
   "name": "python3"
  },
  "language_info": {
   "codemirror_mode": {
    "name": "ipython",
    "version": 3
   },
   "file_extension": ".py",
   "mimetype": "text/x-python",
   "name": "python",
   "nbconvert_exporter": "python",
   "pygments_lexer": "ipython3",
   "version": "3.8.3"
  }
 },
 "nbformat": 4,
 "nbformat_minor": 4
}
